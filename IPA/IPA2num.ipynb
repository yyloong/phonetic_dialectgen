{
 "cells": [
  {
   "cell_type": "code",
   "execution_count": 45,
   "id": "0155fe16",
   "metadata": {},
   "outputs": [],
   "source": [
    "a={'uəŋ', 'əŋ', 'uei', 'ɿ', 'ia', 'uo', 'yn', 'yan', 'ou', 'a', 'ər', 'ʅ', 'iou', 'y', 'u', 'iau', 'i', 'ei', 'iuŋ', 'ye', 'o', 'au', 'iaŋ', 'ua', 'aŋ', 'uai', 'ie', 'in', 'ai', 'uan', 'iŋ', 'uən', 'ɤ', 'an', 'ian', 'ən', 'uaŋ', 'uŋ'}"
   ]
  },
  {
   "cell_type": "code",
   "execution_count": 46,
   "id": "3e4a0bff",
   "metadata": {},
   "outputs": [],
   "source": [
    "b={'tʂ', 'ʂ', 't', 'l', 'th', 'ʐ', 'tɕ', 'n', 'Ǿ', 'x', 'ts', 's', 'kh', 'ɕ', 'f', 'ph', 'm', 'tsh', 'tʂh', 'k', 'tɕh', 'p'}\n",
    "\n"
   ]
  },
  {
   "cell_type": "code",
   "execution_count": 47,
   "id": "0e29bf71",
   "metadata": {},
   "outputs": [],
   "source": [
    "c={'ts', 'k', 'Ǿ', 'h', 'tsh', 'p', 'l', 'ŋ', 'm', 't', 'kh', 's', 'f', 'th', 'n', 'ph'}"
   ]
  },
  {
   "cell_type": "code",
   "execution_count": 48,
   "id": "327df4d9",
   "metadata": {},
   "outputs": [],
   "source": [
    "d={'ɔk', 'ɐŋ', 'ɔi', 'iok', 'ueŋ', 'iœk', 'uɔk', 'uai', 'in', 'au', 'œŋ', 'ieŋ', 'ak', 'iɐm', 'i', 'uɐn', 'an', 'ɐk', 'a', 'ŋ', 'un', 'øn', 'ei', 'ɔŋ', 'iu', 'ioŋ', 'ek', 'ɔt', 'iɐn', 'uɔ', 'ɛ', 'ui', 'ai', 'ut', 'iɐt', 'uɐi', 'yn', 'ɔ', 'ɛk', 'ɛŋ', 'am', 'iøn', 'ɐi', 'ua', 'uan', 'uak', 'uɐt', 'œ', 'ɔn', 'ɐt', 'iɛŋ', 'ɐp', 'iek', 'y', 'uɔŋ', 'œk', 'ɐn', 'im', 'at', 'ou', 'ok', 'yt', 'iœŋ', 'u', 'ip', 'iɛ', 'øy', 'it', 'ap', 'oŋ', 'eŋ', 'øt', 'uat', 'ɐu', 'aŋ', 'uaŋ', 'ɐm', 'iɐu', 'iɐp'}"
   ]
  },
  {
   "cell_type": "code",
   "execution_count": null,
   "id": "7ed592ce",
   "metadata": {},
   "outputs": [],
   "source": [
    "e={'0','1', '2', '3', '4', '5',' ，', '。 ', '？ ', ' …', ' —', '！ ', '：', '；'}"
   ]
  },
  {
   "cell_type": "code",
   "execution_count": 50,
   "id": "da74c58b",
   "metadata": {},
   "outputs": [],
   "source": [
    "s=a|b|c|d|e"
   ]
  },
  {
   "cell_type": "code",
   "execution_count": 51,
   "id": "14a9627d",
   "metadata": {},
   "outputs": [
    {
     "data": {
      "text/plain": [
       "{' —',\n",
       " ' …',\n",
       " ' ，',\n",
       " '1',\n",
       " '2',\n",
       " '3',\n",
       " '4',\n",
       " '5',\n",
       " 'a',\n",
       " 'ai',\n",
       " 'ak',\n",
       " 'am',\n",
       " 'an',\n",
       " 'ap',\n",
       " 'at',\n",
       " 'au',\n",
       " 'aŋ',\n",
       " 'ei',\n",
       " 'ek',\n",
       " 'eŋ',\n",
       " 'f',\n",
       " 'h',\n",
       " 'i',\n",
       " 'ia',\n",
       " 'ian',\n",
       " 'iau',\n",
       " 'iaŋ',\n",
       " 'ie',\n",
       " 'iek',\n",
       " 'ieŋ',\n",
       " 'im',\n",
       " 'in',\n",
       " 'iok',\n",
       " 'iou',\n",
       " 'ioŋ',\n",
       " 'ip',\n",
       " 'it',\n",
       " 'iu',\n",
       " 'iuŋ',\n",
       " 'iøn',\n",
       " 'iŋ',\n",
       " 'iœk',\n",
       " 'iœŋ',\n",
       " 'iɐm',\n",
       " 'iɐn',\n",
       " 'iɐp',\n",
       " 'iɐt',\n",
       " 'iɐu',\n",
       " 'iɛ',\n",
       " 'iɛŋ',\n",
       " 'k',\n",
       " 'kh',\n",
       " 'l',\n",
       " 'm',\n",
       " 'n',\n",
       " 'o',\n",
       " 'ok',\n",
       " 'ou',\n",
       " 'oŋ',\n",
       " 'p',\n",
       " 'ph',\n",
       " 's',\n",
       " 't',\n",
       " 'th',\n",
       " 'ts',\n",
       " 'tsh',\n",
       " 'tɕ',\n",
       " 'tɕh',\n",
       " 'tʂ',\n",
       " 'tʂh',\n",
       " 'u',\n",
       " 'ua',\n",
       " 'uai',\n",
       " 'uak',\n",
       " 'uan',\n",
       " 'uat',\n",
       " 'uaŋ',\n",
       " 'uei',\n",
       " 'ueŋ',\n",
       " 'ui',\n",
       " 'un',\n",
       " 'uo',\n",
       " 'ut',\n",
       " 'uŋ',\n",
       " 'uɐi',\n",
       " 'uɐn',\n",
       " 'uɐt',\n",
       " 'uɔ',\n",
       " 'uɔk',\n",
       " 'uɔŋ',\n",
       " 'uən',\n",
       " 'uəŋ',\n",
       " 'x',\n",
       " 'y',\n",
       " 'yan',\n",
       " 'ye',\n",
       " 'yn',\n",
       " 'yt',\n",
       " 'øn',\n",
       " 'øt',\n",
       " 'øy',\n",
       " 'ŋ',\n",
       " 'œ',\n",
       " 'œk',\n",
       " 'œŋ',\n",
       " 'Ǿ',\n",
       " 'ɐi',\n",
       " 'ɐk',\n",
       " 'ɐm',\n",
       " 'ɐn',\n",
       " 'ɐp',\n",
       " 'ɐt',\n",
       " 'ɐu',\n",
       " 'ɐŋ',\n",
       " 'ɔ',\n",
       " 'ɔi',\n",
       " 'ɔk',\n",
       " 'ɔn',\n",
       " 'ɔt',\n",
       " 'ɔŋ',\n",
       " 'ɕ',\n",
       " 'ən',\n",
       " 'ər',\n",
       " 'əŋ',\n",
       " 'ɛ',\n",
       " 'ɛk',\n",
       " 'ɛŋ',\n",
       " 'ɤ',\n",
       " 'ɿ',\n",
       " 'ʂ',\n",
       " 'ʅ',\n",
       " 'ʐ',\n",
       " '。 ',\n",
       " '！ ',\n",
       " '：',\n",
       " '；',\n",
       " '？ '}"
      ]
     },
     "execution_count": 51,
     "metadata": {},
     "output_type": "execute_result"
    }
   ],
   "source": [
    "s"
   ]
  },
  {
   "cell_type": "code",
   "execution_count": 52,
   "id": "29108ac9",
   "metadata": {},
   "outputs": [
    {
     "data": {
      "text/plain": [
       "137"
      ]
     },
     "execution_count": 52,
     "metadata": {},
     "output_type": "execute_result"
    }
   ],
   "source": [
    "len(s)"
   ]
  },
  {
   "cell_type": "code",
   "execution_count": 53,
   "id": "a1a57288",
   "metadata": {},
   "outputs": [
    {
     "data": {
      "text/plain": [
       "set"
      ]
     },
     "execution_count": 53,
     "metadata": {},
     "output_type": "execute_result"
    }
   ],
   "source": [
    "type(s)"
   ]
  },
  {
   "cell_type": "code",
   "execution_count": 54,
   "id": "3e5a141f",
   "metadata": {},
   "outputs": [],
   "source": [
    "ss = {char for string in s for char in string}"
   ]
  },
  {
   "cell_type": "code",
   "execution_count": 55,
   "id": "6e2481e3",
   "metadata": {},
   "outputs": [
    {
     "data": {
      "text/plain": [
       "{' ',\n",
       " '1',\n",
       " '2',\n",
       " '3',\n",
       " '4',\n",
       " '5',\n",
       " 'a',\n",
       " 'e',\n",
       " 'f',\n",
       " 'h',\n",
       " 'i',\n",
       " 'k',\n",
       " 'l',\n",
       " 'm',\n",
       " 'n',\n",
       " 'o',\n",
       " 'p',\n",
       " 'r',\n",
       " 's',\n",
       " 't',\n",
       " 'u',\n",
       " 'x',\n",
       " 'y',\n",
       " 'ø',\n",
       " 'ŋ',\n",
       " 'œ',\n",
       " 'Ǿ',\n",
       " 'ɐ',\n",
       " 'ɔ',\n",
       " 'ɕ',\n",
       " 'ə',\n",
       " 'ɛ',\n",
       " 'ɤ',\n",
       " 'ɿ',\n",
       " 'ʂ',\n",
       " 'ʅ',\n",
       " 'ʐ',\n",
       " '—',\n",
       " '…',\n",
       " '。',\n",
       " '！',\n",
       " '，',\n",
       " '：',\n",
       " '；',\n",
       " '？'}"
      ]
     },
     "execution_count": 55,
     "metadata": {},
     "output_type": "execute_result"
    }
   ],
   "source": [
    "ss"
   ]
  },
  {
   "cell_type": "code",
   "execution_count": 56,
   "id": "23a4eaa4",
   "metadata": {},
   "outputs": [
    {
     "data": {
      "text/plain": [
       "137"
      ]
     },
     "execution_count": 56,
     "metadata": {},
     "output_type": "execute_result"
    }
   ],
   "source": [
    "len(s)"
   ]
  },
  {
   "cell_type": "code",
   "execution_count": 57,
   "id": "ca3e9785",
   "metadata": {},
   "outputs": [
    {
     "data": {
      "text/plain": [
       "45"
      ]
     },
     "execution_count": 57,
     "metadata": {},
     "output_type": "execute_result"
    }
   ],
   "source": [
    "len(ss)"
   ]
  },
  {
   "cell_type": "code",
   "execution_count": 58,
   "metadata": {},
   "outputs": [],
   "source": [
    "ss=sorted(ss)"
   ]
  },
  {
   "cell_type": "code",
   "execution_count": 59,
   "id": "cfaf53a8",
   "metadata": {},
   "outputs": [
    {
     "data": {
      "text/plain": [
       "list"
      ]
     },
     "execution_count": 59,
     "metadata": {},
     "output_type": "execute_result"
    }
   ],
   "source": [
    "type(ss)"
   ]
  },
  {
   "cell_type": "code",
   "execution_count": 60,
   "id": "43e31aea",
   "metadata": {},
   "outputs": [],
   "source": [
    "mapping_dict = {char: index+1 for index, char in enumerate(ss)}"
   ]
  },
  {
   "cell_type": "code",
   "execution_count": 61,
   "id": "fb676df7",
   "metadata": {},
   "outputs": [
    {
     "data": {
      "text/plain": [
       "{' ': 1,\n",
       " '1': 2,\n",
       " '2': 3,\n",
       " '3': 4,\n",
       " '4': 5,\n",
       " '5': 6,\n",
       " 'a': 7,\n",
       " 'e': 8,\n",
       " 'f': 9,\n",
       " 'h': 10,\n",
       " 'i': 11,\n",
       " 'k': 12,\n",
       " 'l': 13,\n",
       " 'm': 14,\n",
       " 'n': 15,\n",
       " 'o': 16,\n",
       " 'p': 17,\n",
       " 'r': 18,\n",
       " 's': 19,\n",
       " 't': 20,\n",
       " 'u': 21,\n",
       " 'x': 22,\n",
       " 'y': 23,\n",
       " 'ø': 24,\n",
       " 'ŋ': 25,\n",
       " 'œ': 26,\n",
       " 'Ǿ': 27,\n",
       " 'ɐ': 28,\n",
       " 'ɔ': 29,\n",
       " 'ɕ': 30,\n",
       " 'ə': 31,\n",
       " 'ɛ': 32,\n",
       " 'ɤ': 33,\n",
       " 'ɿ': 34,\n",
       " 'ʂ': 35,\n",
       " 'ʅ': 36,\n",
       " 'ʐ': 37,\n",
       " '—': 38,\n",
       " '…': 39,\n",
       " '。': 40,\n",
       " '！': 41,\n",
       " '，': 42,\n",
       " '：': 43,\n",
       " '；': 44,\n",
       " '？': 45}"
      ]
     },
     "execution_count": 61,
     "metadata": {},
     "output_type": "execute_result"
    }
   ],
   "source": [
    "mapping_dict"
   ]
  },
  {
   "cell_type": "code",
   "execution_count": 62,
   "id": "d163472d",
   "metadata": {},
   "outputs": [],
   "source": [
    "import json\n",
    "with open('mapping_dict.json', 'w') as f:\n",
    "    json.dump(mapping_dict, f)\n",
    "# 加载\n",
    "with open('mapping_dict.json', 'r') as f:\n",
    "    mapping_dict = json.load(f)"
   ]
  }
 ],
 "metadata": {
  "kernelspec": {
   "display_name": "base",
   "language": "python",
   "name": "python3"
  },
  "language_info": {
   "codemirror_mode": {
    "name": "ipython",
    "version": 3
   },
   "file_extension": ".py",
   "mimetype": "text/x-python",
   "name": "python",
   "nbconvert_exporter": "python",
   "pygments_lexer": "ipython3",
   "version": "3.13.2"
  }
 },
 "nbformat": 4,
 "nbformat_minor": 5
}
