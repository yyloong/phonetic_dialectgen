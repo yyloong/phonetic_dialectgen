{
 "cells": [
  {
   "cell_type": "code",
   "execution_count": 117,
   "id": "0155fe16",
   "metadata": {},
   "outputs": [],
   "source": [
    "a={'uəŋ', 'əŋ', 'uei', 'ɿ', 'ia', 'uo', 'yn', 'yan', 'ou', 'a', 'ər', 'ʅ', 'iou', 'y', 'u', 'iau', 'i', 'ei', 'iuŋ', 'ye', 'o', 'au', 'iaŋ', 'ua', 'aŋ', 'uai', 'ie', 'in', 'ai', 'uan', 'iŋ', 'uən', 'ɤ', 'an', 'ian', 'ən', 'uaŋ', 'uŋ'}"
   ]
  },
  {
   "cell_type": "code",
   "execution_count": 118,
   "id": "3e4a0bff",
   "metadata": {},
   "outputs": [],
   "source": [
    "b={'tʂ', 'ʂ', 't', 'l', 'th', 'ʐ', 'tɕ', 'n', 'Ǿ', 'x', 'ts', 's', 'kh', 'ɕ', 'f', 'ph', 'm', 'tsh', 'tʂh', 'k', 'tɕh', 'p'}\n",
    "\n"
   ]
  },
  {
   "cell_type": "code",
   "execution_count": 119,
   "id": "0e29bf71",
   "metadata": {},
   "outputs": [],
   "source": [
    "c={'ts', 'k', 'Ǿ', 'h', 'tsh', 'p', 'l', 'ŋ', 'm', 't', 'kh', 's', 'f', 'th', 'n', 'ph'}"
   ]
  },
  {
   "cell_type": "code",
   "execution_count": 120,
   "id": "327df4d9",
   "metadata": {},
   "outputs": [],
   "source": [
    "d={'ɔk', 'ɐŋ', 'ɔi', 'iok', 'ueŋ', 'iœk', 'uɔk', 'uai', 'in', 'au', 'œŋ', 'ieŋ', 'ak', 'iɐm', 'i', 'uɐn', 'an', 'ɐk', 'a', 'ŋ', 'un', 'øn', 'ei', 'ɔŋ', 'iu', 'ioŋ', 'ek', 'ɔt', 'iɐn', 'uɔ', 'ɛ', 'ui', 'ai', 'ut', 'iɐt', 'uɐi', 'yn', 'ɔ', 'ɛk', 'ɛŋ', 'am', 'iøn', 'ɐi', 'ua', 'uan', 'uak', 'uɐt', 'œ', 'ɔn', 'ɐt', 'iɛŋ', 'ɐp', 'iek', 'y', 'uɔŋ', 'œk', 'ɐn', 'im', 'at', 'ou', 'ok', 'yt', 'iœŋ', 'u', 'ip', 'iɛ', 'øy', 'it', 'ap', 'oŋ', 'eŋ', 'øt', 'uat', 'ɐu', 'aŋ', 'uaŋ', 'ɐm', 'iɐu', 'iɐp'}"
   ]
  },
  {
   "cell_type": "code",
   "execution_count": 121,
   "id": "7ed592ce",
   "metadata": {},
   "outputs": [],
   "source": [
    "e={'0','1', '2', '3', '4', '5','，', '。','？', '…', '—', '！', '：', '；', ' '}"
   ]
  },
  {
   "cell_type": "code",
   "execution_count": 122,
   "id": "da74c58b",
   "metadata": {},
   "outputs": [],
   "source": [
    "s=a|b|c|d|e"
   ]
  },
  {
   "cell_type": "code",
   "execution_count": 123,
   "id": "14a9627d",
   "metadata": {},
   "outputs": [
    {
     "data": {
      "text/plain": [
       "{' ',\n",
       " '0',\n",
       " '1',\n",
       " '2',\n",
       " '3',\n",
       " '4',\n",
       " '5',\n",
       " 'a',\n",
       " 'ai',\n",
       " 'ak',\n",
       " 'am',\n",
       " 'an',\n",
       " 'ap',\n",
       " 'at',\n",
       " 'au',\n",
       " 'aŋ',\n",
       " 'ei',\n",
       " 'ek',\n",
       " 'eŋ',\n",
       " 'f',\n",
       " 'h',\n",
       " 'i',\n",
       " 'ia',\n",
       " 'ian',\n",
       " 'iau',\n",
       " 'iaŋ',\n",
       " 'ie',\n",
       " 'iek',\n",
       " 'ieŋ',\n",
       " 'im',\n",
       " 'in',\n",
       " 'iok',\n",
       " 'iou',\n",
       " 'ioŋ',\n",
       " 'ip',\n",
       " 'it',\n",
       " 'iu',\n",
       " 'iuŋ',\n",
       " 'iøn',\n",
       " 'iŋ',\n",
       " 'iœk',\n",
       " 'iœŋ',\n",
       " 'iɐm',\n",
       " 'iɐn',\n",
       " 'iɐp',\n",
       " 'iɐt',\n",
       " 'iɐu',\n",
       " 'iɛ',\n",
       " 'iɛŋ',\n",
       " 'k',\n",
       " 'kh',\n",
       " 'l',\n",
       " 'm',\n",
       " 'n',\n",
       " 'o',\n",
       " 'ok',\n",
       " 'ou',\n",
       " 'oŋ',\n",
       " 'p',\n",
       " 'ph',\n",
       " 's',\n",
       " 't',\n",
       " 'th',\n",
       " 'ts',\n",
       " 'tsh',\n",
       " 'tɕ',\n",
       " 'tɕh',\n",
       " 'tʂ',\n",
       " 'tʂh',\n",
       " 'u',\n",
       " 'ua',\n",
       " 'uai',\n",
       " 'uak',\n",
       " 'uan',\n",
       " 'uat',\n",
       " 'uaŋ',\n",
       " 'uei',\n",
       " 'ueŋ',\n",
       " 'ui',\n",
       " 'un',\n",
       " 'uo',\n",
       " 'ut',\n",
       " 'uŋ',\n",
       " 'uɐi',\n",
       " 'uɐn',\n",
       " 'uɐt',\n",
       " 'uɔ',\n",
       " 'uɔk',\n",
       " 'uɔŋ',\n",
       " 'uən',\n",
       " 'uəŋ',\n",
       " 'x',\n",
       " 'y',\n",
       " 'yan',\n",
       " 'ye',\n",
       " 'yn',\n",
       " 'yt',\n",
       " 'øn',\n",
       " 'øt',\n",
       " 'øy',\n",
       " 'ŋ',\n",
       " 'œ',\n",
       " 'œk',\n",
       " 'œŋ',\n",
       " 'Ǿ',\n",
       " 'ɐi',\n",
       " 'ɐk',\n",
       " 'ɐm',\n",
       " 'ɐn',\n",
       " 'ɐp',\n",
       " 'ɐt',\n",
       " 'ɐu',\n",
       " 'ɐŋ',\n",
       " 'ɔ',\n",
       " 'ɔi',\n",
       " 'ɔk',\n",
       " 'ɔn',\n",
       " 'ɔt',\n",
       " 'ɔŋ',\n",
       " 'ɕ',\n",
       " 'ən',\n",
       " 'ər',\n",
       " 'əŋ',\n",
       " 'ɛ',\n",
       " 'ɛk',\n",
       " 'ɛŋ',\n",
       " 'ɤ',\n",
       " 'ɿ',\n",
       " 'ʂ',\n",
       " 'ʅ',\n",
       " 'ʐ',\n",
       " '—',\n",
       " '…',\n",
       " '。',\n",
       " '！',\n",
       " '，',\n",
       " '：',\n",
       " '；',\n",
       " '？'}"
      ]
     },
     "execution_count": 123,
     "metadata": {},
     "output_type": "execute_result"
    }
   ],
   "source": [
    "s"
   ]
  },
  {
   "cell_type": "code",
   "execution_count": 124,
   "id": "29108ac9",
   "metadata": {},
   "outputs": [
    {
     "data": {
      "text/plain": [
       "139"
      ]
     },
     "execution_count": 124,
     "metadata": {},
     "output_type": "execute_result"
    }
   ],
   "source": [
    "len(s)"
   ]
  },
  {
   "cell_type": "code",
   "execution_count": 125,
   "id": "a1a57288",
   "metadata": {},
   "outputs": [
    {
     "data": {
      "text/plain": [
       "set"
      ]
     },
     "execution_count": 125,
     "metadata": {},
     "output_type": "execute_result"
    }
   ],
   "source": [
    "type(s)"
   ]
  },
  {
   "cell_type": "code",
   "execution_count": 126,
   "id": "3e5a141f",
   "metadata": {},
   "outputs": [],
   "source": [
    "ss = {char for string in s for char in string}"
   ]
  },
  {
   "cell_type": "code",
   "execution_count": 127,
   "id": "6e2481e3",
   "metadata": {},
   "outputs": [
    {
     "data": {
      "text/plain": [
       "{' ',\n",
       " '0',\n",
       " '1',\n",
       " '2',\n",
       " '3',\n",
       " '4',\n",
       " '5',\n",
       " 'a',\n",
       " 'e',\n",
       " 'f',\n",
       " 'h',\n",
       " 'i',\n",
       " 'k',\n",
       " 'l',\n",
       " 'm',\n",
       " 'n',\n",
       " 'o',\n",
       " 'p',\n",
       " 'r',\n",
       " 's',\n",
       " 't',\n",
       " 'u',\n",
       " 'x',\n",
       " 'y',\n",
       " 'ø',\n",
       " 'ŋ',\n",
       " 'œ',\n",
       " 'Ǿ',\n",
       " 'ɐ',\n",
       " 'ɔ',\n",
       " 'ɕ',\n",
       " 'ə',\n",
       " 'ɛ',\n",
       " 'ɤ',\n",
       " 'ɿ',\n",
       " 'ʂ',\n",
       " 'ʅ',\n",
       " 'ʐ',\n",
       " '—',\n",
       " '…',\n",
       " '。',\n",
       " '！',\n",
       " '，',\n",
       " '：',\n",
       " '；',\n",
       " '？'}"
      ]
     },
     "execution_count": 127,
     "metadata": {},
     "output_type": "execute_result"
    }
   ],
   "source": [
    "ss"
   ]
  },
  {
   "cell_type": "code",
   "execution_count": 128,
   "id": "23a4eaa4",
   "metadata": {},
   "outputs": [
    {
     "data": {
      "text/plain": [
       "139"
      ]
     },
     "execution_count": 128,
     "metadata": {},
     "output_type": "execute_result"
    }
   ],
   "source": [
    "len(s)"
   ]
  },
  {
   "cell_type": "code",
   "execution_count": 129,
   "id": "ca3e9785",
   "metadata": {},
   "outputs": [
    {
     "data": {
      "text/plain": [
       "46"
      ]
     },
     "execution_count": 129,
     "metadata": {},
     "output_type": "execute_result"
    }
   ],
   "source": [
    "len(ss)"
   ]
  },
  {
   "cell_type": "code",
   "execution_count": 130,
   "metadata": {},
   "outputs": [],
   "source": [
    "ss=sorted(ss)"
   ]
  },
  {
   "cell_type": "code",
   "execution_count": 131,
   "id": "cfaf53a8",
   "metadata": {},
   "outputs": [
    {
     "data": {
      "text/plain": [
       "list"
      ]
     },
     "execution_count": 131,
     "metadata": {},
     "output_type": "execute_result"
    }
   ],
   "source": [
    "type(ss)"
   ]
  },
  {
   "cell_type": "code",
   "execution_count": 132,
   "id": "43e31aea",
   "metadata": {},
   "outputs": [],
   "source": [
    "mapping_dict = {char: index+1 for index, char in enumerate(ss)}"
   ]
  },
  {
   "cell_type": "code",
   "execution_count": 133,
   "id": "fb676df7",
   "metadata": {},
   "outputs": [
    {
     "data": {
      "text/plain": [
       "{' ': 1,\n",
       " '0': 2,\n",
       " '1': 3,\n",
       " '2': 4,\n",
       " '3': 5,\n",
       " '4': 6,\n",
       " '5': 7,\n",
       " 'a': 8,\n",
       " 'e': 9,\n",
       " 'f': 10,\n",
       " 'h': 11,\n",
       " 'i': 12,\n",
       " 'k': 13,\n",
       " 'l': 14,\n",
       " 'm': 15,\n",
       " 'n': 16,\n",
       " 'o': 17,\n",
       " 'p': 18,\n",
       " 'r': 19,\n",
       " 's': 20,\n",
       " 't': 21,\n",
       " 'u': 22,\n",
       " 'x': 23,\n",
       " 'y': 24,\n",
       " 'ø': 25,\n",
       " 'ŋ': 26,\n",
       " 'œ': 27,\n",
       " 'Ǿ': 28,\n",
       " 'ɐ': 29,\n",
       " 'ɔ': 30,\n",
       " 'ɕ': 31,\n",
       " 'ə': 32,\n",
       " 'ɛ': 33,\n",
       " 'ɤ': 34,\n",
       " 'ɿ': 35,\n",
       " 'ʂ': 36,\n",
       " 'ʅ': 37,\n",
       " 'ʐ': 38,\n",
       " '—': 39,\n",
       " '…': 40,\n",
       " '。': 41,\n",
       " '！': 42,\n",
       " '，': 43,\n",
       " '：': 44,\n",
       " '；': 45,\n",
       " '？': 46}"
      ]
     },
     "execution_count": 133,
     "metadata": {},
     "output_type": "execute_result"
    }
   ],
   "source": [
    "mapping_dict"
   ]
  },
  {
   "cell_type": "code",
   "execution_count": 134,
   "id": "43b491db",
   "metadata": {},
   "outputs": [],
   "source": [
    "import json\n",
    "with open('mapping_dict.json', 'w') as f:\n",
    "    json.dump(mapping_dict, f)\n",
    "# 加载\n",
    "with open('mapping_dict.json', 'r') as f:\n",
    "    mapping_dict = json.load(f)"
   ]
  }
 ],
 "metadata": {
  "kernelspec": {
   "display_name": "base",
   "language": "python",
   "name": "python3"
  },
  "language_info": {
   "codemirror_mode": {
    "name": "ipython",
    "version": 3
   },
   "file_extension": ".py",
   "mimetype": "text/x-python",
   "name": "python",
   "nbconvert_exporter": "python",
   "pygments_lexer": "ipython3",
   "version": "3.13.2"
  }
 },
 "nbformat": 4,
 "nbformat_minor": 5
}
